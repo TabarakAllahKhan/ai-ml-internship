{
 "cells": [
  {
   "cell_type": "code",
   "execution_count": 23,
   "id": "d2394ed6",
   "metadata": {},
   "outputs": [],
   "source": [
    "from datasets import load_dataset, Dataset, DatasetDict\n",
    "from transformers import (\n",
    "    AutoTokenizer,\n",
    "    AutoModelForCausalLM,\n",
    "    Trainer,\n",
    "    TrainingArguments\n",
    ")\n",
    "import torch"
   ]
  },
  {
   "cell_type": "code",
   "execution_count": 22,
   "id": "b622b988",
   "metadata": {},
   "outputs": [
    {
     "name": "stderr",
     "output_type": "stream",
     "text": [
      "C:\\Users\\Microsoft\\AppData\\Local\\Temp\\ipykernel_9476\\3022810213.py:11: DeprecationWarning: Python 3.14 will, by default, filter extracted tar archives and reject files or modify their metadata. Use the filter argument to control this behavior.\n",
      "  tar.extractall()\n"
     ]
    }
   ],
   "source": [
    "import urllib.request\n",
    "import tarfile\n",
    "\n",
    "# Download the file\n",
    "url = \"https://dl.fbaipublicfiles.com/parlai/empatheticdialogues/empatheticdialogues.tar.gz\"\n",
    "filename = \"empatheticdialogues.tar.gz\"\n",
    "urllib.request.urlretrieve(url, filename)\n",
    "\n",
    "# Extract the tar.gz file\n",
    "with tarfile.open(filename, \"r:gz\") as tar:\n",
    "    tar.extractall()"
   ]
  },
  {
   "cell_type": "code",
   "execution_count": 25,
   "id": "1bd40918",
   "metadata": {},
   "outputs": [],
   "source": [
    "import pandas as pd\n",
    "\n",
    "\n",
    "train_df = pd.read_csv(\n",
    "    'F:/ai_ml_internship/Task_4_chatbot/empatheticdialogues/train.csv',\n",
    "    on_bad_lines='skip'\n",
    ")\n",
    "test_df = pd.read_csv(\n",
    "    'F:/ai_ml_internship/Task_4_chatbot/empatheticdialogues/test.csv',\n",
    "    on_bad_lines='skip'\n",
    ")\n",
    "valid_df = pd.read_csv(\n",
    "    'F:/ai_ml_internship/Task_4_chatbot/empatheticdialogues/valid.csv',\n",
    "    on_bad_lines='skip'\n",
    ")"
   ]
  }
 ],
 "metadata": {
  "kernelspec": {
   "display_name": "base",
   "language": "python",
   "name": "python3"
  },
  "language_info": {
   "codemirror_mode": {
    "name": "ipython",
    "version": 3
   },
   "file_extension": ".py",
   "mimetype": "text/x-python",
   "name": "python",
   "nbconvert_exporter": "python",
   "pygments_lexer": "ipython3",
   "version": "3.12.8"
  }
 },
 "nbformat": 4,
 "nbformat_minor": 5
}
